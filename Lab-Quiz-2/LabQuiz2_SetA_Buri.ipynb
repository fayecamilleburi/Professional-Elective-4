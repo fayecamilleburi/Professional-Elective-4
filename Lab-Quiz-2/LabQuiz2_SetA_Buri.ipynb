{
  "nbformat": 4,
  "nbformat_minor": 0,
  "metadata": {
    "colab": {
      "provenance": []
    },
    "kernelspec": {
      "name": "python3",
      "display_name": "Python 3"
    },
    "language_info": {
      "name": "python"
    }
  },
  "cells": [
    {
      "cell_type": "markdown",
      "source": [
        "# **Laboratory Quiz 2: Set A**"
      ],
      "metadata": {
        "id": "5zSpBOLLd4n9"
      }
    },
    {
      "cell_type": "markdown",
      "source": [
        "1. Develop a Python program that calculates bus fare discounts based on a passenger's category (Student, Adult, or Senior Citizen) - 20 points.\n",
        ">* Store passenger names and their categories in a dictionary.\n",
        "Use a for loop with range() to process each passenger.\n",
        "Use if-elif-else statements to determine the fare:\n",
        "\t>>* Student → 50% discount on base fare.\n",
        "\t>>* Senior Citizen (age 60 and above) → 30% discount.\n",
        "\t>>* Adult → No discount.\n",
        ">* Assume that the base fare is  ₱10.\n",
        ">* Print each passenger's name, category, and final fare.\n",
        "\n"
      ],
      "metadata": {
        "id": "CxVREd7QeA1W"
      }
    },
    {
      "cell_type": "code",
      "execution_count": null,
      "metadata": {
        "colab": {
          "base_uri": "https://localhost:8080/"
        },
        "id": "eak7uZVcdgrJ",
        "outputId": "c8d2b48b-eebd-4554-92df-6384f8fa40cc"
      },
      "outputs": [
        {
          "output_type": "stream",
          "name": "stdout",
          "text": [
            "Passenger Name: Anna\n",
            "Category: Student\n",
            "Final Fare: 5.0\n",
            "\n",
            "Passenger Name: Ben\n",
            "Category: Adult\n",
            "Final Fare: 10\n",
            "\n",
            "Passenger Name: Clara\n",
            "Category: Senior Citizen\n",
            "Final Fare: 7.0\n",
            "\n",
            "Passenger Name: David\n",
            "Category: Student\n",
            "Final Fare: 5.0\n",
            "\n",
            "Passenger Name: Ethan\n",
            "Category: Senior Citizen\n",
            "Final Fare: 7.0\n",
            "\n"
          ]
        }
      ],
      "source": [
        "# Store passenger names and their categories.\n",
        "passenger_dict = {\n",
        "    \"Anna\": \"Student\",\n",
        "    \"Ben\": \"Adult\",\n",
        "    \"Clara\": \"Senior Citizen\",\n",
        "    \"David\": \"Student\",\n",
        "    \"Ethan\": \"Senior Citizen\"\n",
        "}\n",
        "\n",
        "# Use a for loop with range() to process each passenger. Use if-elif-else statements to determine the fare.\n",
        "# Assume that the base fare is ₱10.\n",
        "base_fare = 10\n",
        "for i in range(len(passenger_dict)):\n",
        "    name = list(passenger_dict.keys())[i]\n",
        "    category = list(passenger_dict.values())[i]\n",
        "\n",
        "    if category == \"Student\":\n",
        "        final_fare = base_fare * 0.5\n",
        "    elif category == \"Senior Citizen\":\n",
        "        final_fare = base_fare * 0.7\n",
        "    else:\n",
        "        final_fare = base_fare\n",
        "\n",
        "    # Print each passenger's name, category, and final fare.\n",
        "    print(f\"Passenger Name: {name}\")\n",
        "    print(f\"Category: {category}\")\n",
        "    print(f\"Final Fare: {final_fare}\\n\")"
      ]
    },
    {
      "cell_type": "markdown",
      "source": [
        "2. Write a Python program that (20 points):\n",
        ">* Takes a list of participants for each ACSS meeting.\n",
        ">* Uses **sets** to store participants per meeting.\n",
        ">* Uses **set union** to find the total number of **unique participants**.\n",
        ">* **Outputs**:\n",
        ">>* The list of all unique participants.\n",
        ">>* The total number of unique participants.\n"
      ],
      "metadata": {
        "id": "6bocZPLXiNf2"
      }
    },
    {
      "cell_type": "code",
      "source": [
        "# Takes a list of participants for each ACSS meeting.\n",
        "participants_list = [\n",
        "    {\"Mia\", \"Noah\", \"Olivia\"},\n",
        "    {\"Olivia\", \"Liam\", \"Emma\"},\n",
        "    {\"Ava\", \"Noah\", \"Mia\"}\n",
        "]\n",
        "\n",
        "# Uses sets to store participants per meeting.\n",
        "unique_participants = set()\n",
        "for participants in participants_list:\n",
        "    unique_participants.update(participants)\n",
        "\n",
        "# Uses set union to find the total number of unique participants.\n",
        "total_unique_participants = len(unique_participants)\n",
        "\n",
        "# Output: List of all unique participants\n",
        "print(\"List of all unique participants:\")\n",
        "print(list(unique_participants))\n",
        "\n",
        "# Output: Total number of unique participants.\n",
        "print(\"\\nTotal number of unique participants:\")\n",
        "print(total_unique_participants)"
      ],
      "metadata": {
        "colab": {
          "base_uri": "https://localhost:8080/"
        },
        "id": "Q2b2fB-Ni2YG",
        "outputId": "efd1ee36-5e4a-4c6d-8a3f-de06060a5883"
      },
      "execution_count": null,
      "outputs": [
        {
          "output_type": "stream",
          "name": "stdout",
          "text": [
            "List of all unique participants:\n",
            "['Emma', 'Mia', 'Olivia', 'Liam', 'Ava', 'Noah']\n",
            "\n",
            "Total number of unique participants:\n",
            "6\n"
          ]
        }
      ]
    },
    {
      "cell_type": "markdown",
      "source": [
        "3. Write a Python program that (30 points):\n",
        ">* Uses a **list** to store the number of Sir Jerry's steps walked each day.\n",
        ">* Uses a **for loop with range()** to iterate through the data.\n",
        ">* Calculates the **total number of steps** for the week.\n",
        ">* Computes and displays the **average steps per day**, rounded to **2 decimal places**\n",
        ">* Prints both total and average steps.\n"
      ],
      "metadata": {
        "id": "KdWmVok5ijdX"
      }
    },
    {
      "cell_type": "code",
      "source": [
        "# Uses a list to store the number of Sir Jerry's steps walked each day.\n",
        "daily_steps = [8500, 9200, 7800, 10200, 8800, 7600, 9400]\n",
        "\n",
        "# Uses a for loop with range() to iterate through the data.\n",
        "for i in range(len(daily_steps)):\n",
        "    # Calculates the total number of steps for the week.\n",
        "    total_steps = sum(daily_steps)\n",
        "\n",
        "    # Computes and displays the average steps per day, rounded to 2 decimal\n",
        "    average_steps = total_steps / len(daily_steps)\n",
        "\n",
        "# Prints both total and average steps.\n",
        "print(\"Total number of steps for the week:\", total_steps)\n",
        "print(\"Average steps per day:\", round(average_steps, 2))"
      ],
      "metadata": {
        "colab": {
          "base_uri": "https://localhost:8080/"
        },
        "id": "3aO0YPvdjrKV",
        "outputId": "d0908ceb-2b12-44e4-f316-5f293ae75696"
      },
      "execution_count": null,
      "outputs": [
        {
          "output_type": "stream",
          "name": "stdout",
          "text": [
            "Total number of steps for the week: 61500\n",
            "Average steps per day: 8785.71\n"
          ]
        }
      ]
    }
  ]
}
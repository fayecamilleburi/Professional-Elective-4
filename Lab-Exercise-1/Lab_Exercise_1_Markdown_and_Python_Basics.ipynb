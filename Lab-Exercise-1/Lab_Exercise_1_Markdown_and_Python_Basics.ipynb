{
  "nbformat": 4,
  "nbformat_minor": 0,
  "metadata": {
    "colab": {
      "provenance": []
    },
    "kernelspec": {
      "name": "python3",
      "display_name": "Python 3"
    },
    "language_info": {
      "name": "python"
    }
  },
  "cells": [
    {
      "cell_type": "markdown",
      "source": [
        "# Introduction to Markdown\n",
        "\n",
        "Colab has two types of cells: text and code. Text cells are formatted using a simple markup language called Markdown."
      ],
      "metadata": {
        "id": "AsDoYaTXm3Tz"
      }
    },
    {
      "cell_type": "markdown",
      "source": [
        "## Bold, Italics, and Underline\n",
        "\n",
        "Surround the word with double asterisk to make it **bold**.\n",
        "\n",
        "Surround the word with single underscore to make it _italics_. You may use aldo the single asterisk to *italicized*.\n",
        "\n",
        "You may use the html tag <u>Underline me</u> to underline a word."
      ],
      "metadata": {
        "id": "Bn7pneTsnd98"
      }
    },
    {
      "cell_type": "markdown",
      "source": [
        "## Paragraphs, Images, Hyperlinks\n",
        "\n",
        ">Use the greater than symbol (>) to indent the paragraph. Strike two times the enter key to move to the next line.\n",
        ">>If there is a sub-paragraph, use the double greater than symbol.\n",
        "\n",
        "Use the syntax \"[Name of the link] (URL)\" to include hyperlink in your notebook.\n",
        "Example: [NEUVLE](https://neuvle.neu.edu.ph).\n",
        "\n",
        "Use the syntax ![Google Logo](https://upload.wikimedia.org/wikipedia/commons/thumb/2/2f/Google_2015_logo.svg/1200px-Google_2015_logo.svg.png)\n",
        "\n",
        "Alternatively, you may use the img html tag:\n",
        "<img src =\"https://upload.wikimedia.org/wikipedia/commons/thumb/2/2f/Google_2015_logo.svg/1200px-Google_2015_logo.svg.png\" width=25%>"
      ],
      "metadata": {
        "id": "FRGA6W7ooNzS"
      }
    },
    {
      "cell_type": "markdown",
      "source": [
        "## Bullets\n",
        "\n",
        "You may use the single dash to itemize.\n",
        "\n",
        "The following topics will be discussed in Business Analytics.\n",
        "- Descriptive Analytics\n",
        "- Predictive Analytics\n",
        "- Prescriptive Analytics\n",
        "\n",
        "Or, use this format to put numbers.\n",
        "\n",
        "You must possess the skills below to learn its application:\n",
        "1. Statistics\n",
        "2. Python\n",
        "3. Machine Learning"
      ],
      "metadata": {
        "id": "RaL0NJCnqxj7"
      }
    },
    {
      "cell_type": "markdown",
      "source": [
        "# Python Basics\n",
        "Learn the basics of python and its data types."
      ],
      "metadata": {
        "id": "LvH6X9nkrjgE"
      }
    },
    {
      "cell_type": "markdown",
      "source": [
        "## Input and Output"
      ],
      "metadata": {
        "id": "IxpTIhforxGU"
      }
    },
    {
      "cell_type": "code",
      "source": [
        "# Input name and display name\n",
        "name = input(\"Enter name: \")\n",
        "print(\"Your name is\", name) # first version of the print\n",
        "print(\"\\n\" + name + \" is your name\") # second version\n",
        "print(f\"{name} is the name, soon it will be a legend!\")\n",
        "\n",
        "age = 21 # integer data type\n",
        "print(f\"\\nYour age is\\t {age}\") # you cannot combine integer to string. python 3.6"
      ],
      "metadata": {
        "colab": {
          "base_uri": "https://localhost:8080/"
        },
        "id": "ELuXf9_2r40T",
        "outputId": "202db70f-56fb-4093-d0e2-6ba22a155af0"
      },
      "execution_count": null,
      "outputs": [
        {
          "output_type": "stream",
          "name": "stdout",
          "text": [
            "Enter name: Faye\n",
            "Your name is Faye\n",
            "\n",
            "Faye is your name\n",
            "Faye is the name, soon it will be a legend!\n",
            "\n",
            "Your age is\t 21\n"
          ]
        }
      ]
    },
    {
      "cell_type": "markdown",
      "source": [
        "## Data Type"
      ],
      "metadata": {
        "id": "lBSafJ70t1QO"
      }
    },
    {
      "cell_type": "markdown",
      "source": [
        "### String"
      ],
      "metadata": {
        "id": "U02UD4CtuCrk"
      }
    },
    {
      "cell_type": "code",
      "source": [
        "name = \"Faye Camille Buri\" # variable name name\n",
        "print(f\"Your name is {name}\")\n",
        "print(\"Data type of name is\", type(name))"
      ],
      "metadata": {
        "colab": {
          "base_uri": "https://localhost:8080/"
        },
        "id": "pI7t33cesVxe",
        "outputId": "80951366-9cab-40a4-a30a-4e0b396f7191"
      },
      "execution_count": null,
      "outputs": [
        {
          "output_type": "stream",
          "name": "stdout",
          "text": [
            "Your name is Faye Camille Buri\n",
            "Data type of name is <class 'str'>\n"
          ]
        }
      ]
    },
    {
      "cell_type": "markdown",
      "source": [
        "### Integer"
      ],
      "metadata": {
        "id": "mOcS0BtqugfU"
      }
    },
    {
      "cell_type": "code",
      "source": [
        "number = 5\n",
        "print(f\"Number {number} is an integer!\")\n",
        "print(type(number))"
      ],
      "metadata": {
        "colab": {
          "base_uri": "https://localhost:8080/"
        },
        "id": "zExAw076uO49",
        "outputId": "6306c938-385b-4fde-f787-fe1dfd129a65"
      },
      "execution_count": null,
      "outputs": [
        {
          "output_type": "stream",
          "name": "stdout",
          "text": [
            "Number 5 is an integer!\n",
            "<class 'int'>\n"
          ]
        }
      ]
    },
    {
      "cell_type": "markdown",
      "source": [
        "### Float"
      ],
      "metadata": {
        "id": "F3keSwHPu8Ot"
      }
    },
    {
      "cell_type": "code",
      "source": [
        "# Decimal number\n",
        "decimal_number = 12.123456\n",
        "print(f\"Decimal number is {decimal_number}\")\n",
        "\n",
        "# Float ay katumbas na ng double"
      ],
      "metadata": {
        "colab": {
          "base_uri": "https://localhost:8080/"
        },
        "id": "ANMQaXpturpM",
        "outputId": "38a5a8c3-e5b6-4b48-ca75-00a01679d43e"
      },
      "execution_count": null,
      "outputs": [
        {
          "output_type": "stream",
          "name": "stdout",
          "text": [
            "Decimal number is 12.123456\n"
          ]
        }
      ]
    },
    {
      "cell_type": "markdown",
      "source": [
        "### Boolean"
      ],
      "metadata": {
        "id": "gcsUk88kvi-0"
      }
    },
    {
      "cell_type": "code",
      "source": [
        "is_logged_in = True\n",
        "print(is_logged_in)\n",
        "print(is_logged_in == False)\n",
        "\n",
        "# check data type\n",
        "type(is_logged_in)"
      ],
      "metadata": {
        "colab": {
          "base_uri": "https://localhost:8080/"
        },
        "id": "zwAlYoZnvRoW",
        "outputId": "a64c8ce4-d0a4-40fa-f915-9036b21421e8"
      },
      "execution_count": null,
      "outputs": [
        {
          "output_type": "stream",
          "name": "stdout",
          "text": [
            "True\n",
            "False\n"
          ]
        },
        {
          "output_type": "execute_result",
          "data": {
            "text/plain": [
              "bool"
            ]
          },
          "metadata": {},
          "execution_count": 23
        }
      ]
    },
    {
      "cell_type": "markdown",
      "source": [
        "### List (mutable - it can be changed)"
      ],
      "metadata": {
        "id": "bfl0hupfv109"
      }
    },
    {
      "cell_type": "code",
      "source": [
        "year_level = [1, 2, 3] # use square bracket for list\n",
        "print(f\"Current year level list is {year_level}\")\n",
        "\n",
        "# append another year: 4\n",
        "year_level.append(4)\n",
        "print(f\"Updated year level is {year_level}\")\n",
        "\n",
        "# check data type\n",
        "type(year_level)"
      ],
      "metadata": {
        "colab": {
          "base_uri": "https://localhost:8080/"
        },
        "id": "cymx7eYBvtQ1",
        "outputId": "149129c1-82ed-452f-f16b-1e91f3dd476e"
      },
      "execution_count": null,
      "outputs": [
        {
          "output_type": "stream",
          "name": "stdout",
          "text": [
            "Current year level list is [1, 2, 3]\n",
            "Updated year level is [1, 2, 3, 4]\n"
          ]
        },
        {
          "output_type": "execute_result",
          "data": {
            "text/plain": [
              "list"
            ]
          },
          "metadata": {},
          "execution_count": 22
        }
      ]
    },
    {
      "cell_type": "markdown",
      "source": [
        "### Tuple (immutable - cannot be changed)"
      ],
      "metadata": {
        "id": "otNa9KuvwLks"
      }
    },
    {
      "cell_type": "code",
      "source": [
        "dimensions = (10, 20) # uses parentheses\n",
        "print(dimensions)\n",
        "type(dimensions)"
      ],
      "metadata": {
        "colab": {
          "base_uri": "https://localhost:8080/"
        },
        "id": "LcLnTHSfwAAU",
        "outputId": "0c0c6f50-4b13-40cd-e8aa-3d382afad900"
      },
      "execution_count": null,
      "outputs": [
        {
          "output_type": "stream",
          "name": "stdout",
          "text": [
            "(10, 20)\n"
          ]
        },
        {
          "output_type": "execute_result",
          "data": {
            "text/plain": [
              "tuple"
            ]
          },
          "metadata": {},
          "execution_count": 26
        }
      ]
    },
    {
      "cell_type": "markdown",
      "source": [
        "### Dictionary"
      ],
      "metadata": {
        "id": "Rs6CkuGlxf7V"
      }
    },
    {
      "cell_type": "code",
      "source": [
        "# uses key-value pair, curly braces\n",
        "student = { name: \"Maria\", age: 21, \"program\": \"BSCS\"}\n",
        "print(f\"Student name is {student[name]}\")\n",
        "print(f\"Student age is {student[age]}\")\n",
        "print(f\"Student program is {student['program']}\")\n",
        "\n",
        "print(f\"Student is a {type(student)}\")"
      ],
      "metadata": {
        "colab": {
          "base_uri": "https://localhost:8080/"
        },
        "id": "dpxftwQlxdqT",
        "outputId": "0b1dd230-429c-425f-e383-135ea912ec65"
      },
      "execution_count": null,
      "outputs": [
        {
          "output_type": "stream",
          "name": "stdout",
          "text": [
            "Student name is Maria\n",
            "Student age is 21\n",
            "Student program is BSCS\n",
            "Student is a <class 'dict'>\n"
          ]
        }
      ]
    },
    {
      "cell_type": "markdown",
      "source": [
        "### Set"
      ],
      "metadata": {
        "id": "L2ZckWRwz6gu"
      }
    },
    {
      "cell_type": "code",
      "source": [
        "setNumbers = {1,2,3,3,4} # uses curly braces\n",
        "print(setNumbers)\n",
        "type(setNumbers)"
      ],
      "metadata": {
        "colab": {
          "base_uri": "https://localhost:8080/"
        },
        "id": "5mnnnZ7qxwye",
        "outputId": "8461760f-8355-42cd-bd77-7a50aee74ee8"
      },
      "execution_count": null,
      "outputs": [
        {
          "output_type": "stream",
          "name": "stdout",
          "text": [
            "{1, 2, 3, 4}\n"
          ]
        },
        {
          "output_type": "execute_result",
          "data": {
            "text/plain": [
              "set"
            ]
          },
          "metadata": {},
          "execution_count": 31
        }
      ]
    },
    {
      "cell_type": "code",
      "source": [],
      "metadata": {
        "id": "Ed0qR5aF0gTm"
      },
      "execution_count": null,
      "outputs": []
    }
  ]
}